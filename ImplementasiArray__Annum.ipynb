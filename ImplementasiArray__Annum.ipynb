{
  "nbformat": 4,
  "nbformat_minor": 0,
  "metadata": {
    "colab": {
      "provenance": [],
      "authorship_tag": "ABX9TyOlE2lqRuiFTSXvqKcx2XU4",
      "include_colab_link": true
    },
    "kernelspec": {
      "name": "python3",
      "display_name": "Python 3"
    },
    "language_info": {
      "name": "python"
    }
  },
  "cells": [
    {
      "cell_type": "markdown",
      "metadata": {
        "id": "view-in-github",
        "colab_type": "text"
      },
      "source": [
        "<a href=\"https://colab.research.google.com/github/rakhmatherlambang/rakhmaaat/blob/main/ImplementasiArray__Annum.ipynb\" target=\"_parent\"><img src=\"https://colab.research.google.com/assets/colab-badge.svg\" alt=\"Open In Colab\"/></a>"
      ]
    },
    {
      "cell_type": "code",
      "execution_count": null,
      "metadata": {
        "id": "kxduxBx6R1Lw",
        "outputId": "fa43a179-023d-4666-a5e0-f0be85edb51c",
        "colab": {
          "base_uri": "https://localhost:8080/"
        }
      },
      "outputs": [
        {
          "output_type": "stream",
          "name": "stdout",
          "text": [
            "Solusi:\n",
            "x1 = 1.0\n",
            "x2 = 1.0\n",
            "x3 = 2.0\n"
          ]
        }
      ],
      "source": [
        "import numpy as np\n",
        "\n",
        "A = np.array([[2, -5, 3],\n",
        "              [4, 1, -2],\n",
        "              [5, -2, 1]])\n",
        "\n",
        "\n",
        "B = np.array([3, 1, 5])\n",
        "\n",
        "\n",
        "n = len(B)\n",
        "\n",
        "for k in range(n - 1):\n",
        "    for i in range(k + 1, n):\n",
        "        factor = A[i, k] / A[k, k]\n",
        "        for j in range(k, n):\n",
        "            A[i, j] = A[i, j] - factor * A[k, j]\n",
        "        B[i] = B[i] - factor * B[k]\n",
        "\n",
        "\n",
        "X = np.zeros(n)\n",
        "X[n - 1] = B[n - 1] / A[n - 1, n - 1]\n",
        "\n",
        "for i in range(n - 2, -1, -1):\n",
        "    sum_ = np.sum(A[i, i + 1:] * X[i + 1:])\n",
        "    X[i] = (B[i] - sum_) / A[i, i]\n",
        "\n",
        "print(\"Solusi:\")\n",
        "for i in range(n):\n",
        "    print(f\"x{i+1} = {X[i]}\")"
      ]
    },
    {
      "cell_type": "code",
      "source": [
        "import numpy as np\n",
        "\n",
        "A = np.array([[2, -2, -2],\n",
        "              [1, -6, -3],\n",
        "              [3, 2, 1]])\n",
        "\n",
        "B = np.array([9, -28, 16])\n",
        "\n",
        "n = len(B)\n",
        "\n",
        "for k in range(n - 1):\n",
        "    for i in range(k + 1, n):\n",
        "        factor = A[i, k] / A[k, k]\n",
        "        for j in range(k, n):\n",
        "            A[i, j] = A[i, j] - factor * A[k, j]\n",
        "        B[i] = B[i] - factor * B[k]\n",
        "\n",
        "X = np.zeros(n)\n",
        "X[n - 1] = B[n - 1] // A[n - 1, n - 1]\n",
        "\n",
        "for i in range(n - 2, -1, -1):\n",
        "    sum_ = np.sum(A[i, i + 1:] * X[i + 1:])\n",
        "    X[i] = (B[i] - sum_) // A[i, i]\n",
        "\n",
        "print(\"Solusi:\")\n",
        "for i in range(n):\n",
        "    print(f\"x{i+1} = {int(X[i])}\")\n"
      ],
      "metadata": {
        "colab": {
          "base_uri": "https://localhost:8080/"
        },
        "id": "cms-c7mZh3su",
        "outputId": "982e5557-14f7-4cf5-bbc4-48953c198ba0"
      },
      "execution_count": null,
      "outputs": [
        {
          "output_type": "stream",
          "name": "stdout",
          "text": [
            "Solusi:\n",
            "x1 = 1\n",
            "x2 = 12\n",
            "x3 = -15\n"
          ]
        }
      ]
    },
    {
      "cell_type": "code",
      "source": [
        "import numpy as np\n",
        "\n",
        "A = np.array([[2, 2, -4],\n",
        "              [3, -3, 5],\n",
        "              [4, 5, -3]])\n",
        "\n",
        "B = np.array([2, 10, 17])\n",
        "\n",
        "n = len(B)\n",
        "\n",
        "for k in range(n - 1):\n",
        "    for i in range(k + 1, n):\n",
        "        factor = A[i, k] / A[k, k]\n",
        "        for j in range(k, n):\n",
        "            A[i, j] = A[i, j] - factor * A[k, j]\n",
        "        B[i] = B[i] - factor * B[k]\n",
        "\n",
        "X = np.zeros(n)\n",
        "X[n - 1] = B[n - 1] // A[n - 1, n - 1]\n",
        "\n",
        "for i in range(n - 2, -1, -1):\n",
        "    sum_ = np.sum(A[i, i + 1:] * X[i + 1:])\n",
        "    X[i] = (B[i] - sum_) // A[i, i]\n",
        "\n",
        "print(\"Solusi:\")\n",
        "for i in range(n):\n",
        "    print(f\"a_{i+1} = {int(X[i])}\")\n"
      ],
      "metadata": {
        "colab": {
          "base_uri": "https://localhost:8080/"
        },
        "id": "Og4m4g0qjGlm",
        "outputId": "823d7d5b-b691-460e-8f20-703d1e760917"
      },
      "execution_count": null,
      "outputs": [
        {
          "output_type": "stream",
          "name": "stdout",
          "text": [
            "Solusi:\n",
            "a_1 = 3\n",
            "a_2 = 2\n",
            "a_3 = 2\n"
          ]
        }
      ]
    }
  ]
}